{
 "cells": [
  {
   "cell_type": "markdown",
   "metadata": {},
   "source": [
    "# Object Oriented Programming 2 - examples and APIs\n"
   ]
  },
  {
   "cell_type": "markdown",
   "metadata": {},
   "source": [
    "## Tasks Today:\n",
    "\n",
    "   \n",
    "\n",
    "1) <b>Shopping Cart Example</b> <br>\n",
    "2) <b>Requests and the pokemon API </b> <br>\n",
    " "
   ]
  },
  {
   "cell_type": "markdown",
   "metadata": {},
   "source": [
    "# Goal \n",
    "### build a shopping cart program with prices and quantities using objects and a dictionary"
   ]
  },
  {
   "cell_type": "code",
   "execution_count": null,
   "metadata": {},
   "outputs": [],
   "source": [
    "from IPython.display import clear_output as clear\n",
    "# Create a class called cart that retains items and has methods to add, remove, and show\n",
    "\n",
    "# this class is just responsible for the cart object and the actions of the cart object\n",
    "class Cart():\n",
    "    def __init__(self):\n",
    "        self.items = {}\n",
    "    \n",
    "    def add(self):\n",
    "        clear()\n",
    "        new_item = input(\"What do you want to get? \")\n",
    "        quantity = int(input(f\"How many {new_item}s do you want? (insert number) \"))\n",
    "        if new_item not in self.items.keys():\n",
    "            self.items[new_item] = quantity\n",
    "        else:\n",
    "            self.items[new_item] += quantity\n",
    "        print(f\"{quantity} {new_item}s are in the cart\")\n",
    "        \n",
    "    def remove(self):\n",
    "        clear()\n",
    "        discard = input('What would you like to discard? ')\n",
    "        quantity = int(input(\" How many would you like to discard? \"))\n",
    "        try:\n",
    "            self.items[discard] -= quantity\n",
    "            if self.items[discard] <= 0:\n",
    "                del self.items[discard]\n",
    "            print(f'{quantity} {discard}s have been removed.')\n",
    "        except:\n",
    "            print(f'{discard} was not in your cart.')\n",
    "        self.show()\n",
    "        \n",
    "    def show(self):\n",
    "        print(f\"Your cart contains the listed items\")\n",
    "        for item,quantity in self.items.items():\n",
    "            print(f\"{item} | quantity: {quantity}\")\n",
    "            \n",
    "    def checkout(self):\n",
    "        clear()\n",
    "        if not self.items:\n",
    "            print(\"buy something next time... Please\")\n",
    "        else:\n",
    "            print('Thanks for shopping!')\n",
    "            self.show()\n",
    "        \n",
    "    \n",
    "    \n",
    "# control the logic and flow/operation of our overall program\n",
    "class Main:\n",
    "    def showInstructions():\n",
    "        print(\"\"\"\n",
    "Welcome to the Shopping Program.\n",
    "Options:\n",
    "[1] Show Current Cart\n",
    "[2] Add Item\n",
    "[3] Remove Item\n",
    "[4] Quit\n",
    "        \"\"\")\n",
    "    \n",
    "    # driver code - responsible for actually calling all of my functions\n",
    "    def run():\n",
    "        Main.showInstructions()\n",
    "        my_cart = Cart()\n",
    "        \n",
    "        while True:\n",
    "            choice = input(\"What would you like to do? \")\n",
    "            if choice == '1':\n",
    "                if my_cart.items == {}:\n",
    "                    print('Your cart is empty... start shopping')\n",
    "                else:\n",
    "                    my_cart.show()\n",
    "            elif choice == '2':\n",
    "                my_cart.add()\n",
    "            elif choice == '3':\n",
    "                if my_cart.items == {}:\n",
    "                    print('your cart is empty... add something before you remove it')\n",
    "                else:\n",
    "                    my_cart.remove()\n",
    "            elif choice == '4':\n",
    "                my_cart.checkout()\n",
    "                break\n",
    "            else:\n",
    "                print(\"invalid input... please try again.\")\n",
    "                \n",
    "Main.run()"
   ]
  },
  {
   "cell_type": "markdown",
   "metadata": {},
   "source": [
    "# working with APis"
   ]
  },
  {
   "cell_type": "markdown",
   "metadata": {},
   "source": [
    "<p> What exactly is an API? <br> <br>\n",
    "API is the acronym for Application Programming Interface, which is a software intermediary that allows two applications to talk to each other. Each time you use an app like Facebook, send an instant message, or check the weather on your phone, you're using an API. </p>"
   ]
  },
  {
   "cell_type": "markdown",
   "metadata": {},
   "source": [
    "### The Poke API  allows you to retreive a pokemon's information from PokeAPI https://pokeapi.co/\n",
    "\n"
   ]
  },
  {
   "cell_type": "code",
   "execution_count": null,
   "metadata": {},
   "outputs": [],
   "source": [
    "# making an API call\n",
    "import requests\n",
    "\n",
    "r = requests.get('https://pokeapi.co/api/v2/pokemon/pikachu')\n",
    "if r.status_code == 200:\n",
    "    data = r.json()\n",
    "\n",
    "print(data.keys())\n",
    "\n"
   ]
  },
  {
   "cell_type": "markdown",
   "metadata": {},
   "source": [
    "### Display a Pokemon's name, weight, abilities, and types"
   ]
  },
  {
   "cell_type": "code",
   "execution_count": null,
   "metadata": {},
   "outputs": [],
   "source": [
    "# name, abilities, types, and weight\n",
    "# get the name\n",
    "name = data['name']\n",
    "print(name)"
   ]
  },
  {
   "cell_type": "code",
   "execution_count": null,
   "metadata": {},
   "outputs": [],
   "source": [
    "# get types\n",
    "types = [pokemon['type']['name'] for pokemon in data['types']]\n",
    "\n",
    "print(types)"
   ]
  },
  {
   "cell_type": "code",
   "execution_count": null,
   "metadata": {},
   "outputs": [],
   "source": [
    "# get weight\n",
    "weight = data['weight']\n",
    "print(weight)"
   ]
  },
  {
   "cell_type": "code",
   "execution_count": null,
   "metadata": {},
   "outputs": [],
   "source": [
    "# get abilities\n",
    "abilities = [pokemon['ability']['name'] for pokemon in data['abilities']]\n",
    "print(abilities)"
   ]
  },
  {
   "cell_type": "code",
   "execution_count": null,
   "metadata": {},
   "outputs": [],
   "source": [
    "# Create a structure for a single pokemon\n",
    "pokemon_x = {\n",
    "    \n",
    "'name': '',\n",
    "'abilities': [],\n",
    "'weight': '',\n",
    "'types': []\n",
    "}\n"
   ]
  },
  {
   "cell_type": "code",
   "execution_count": null,
   "metadata": {},
   "outputs": [],
   "source": [
    "pikachu = {\n",
    "    \"name\": name,\n",
    "    'abilities': abilities,\n",
    "    'weight': weight,\n",
    "    'types' : types\n",
    "}\n",
    "pikachu"
   ]
  },
  {
   "cell_type": "markdown",
   "metadata": {},
   "source": [
    "#### Create a function to Pull in your own Pokemon's data "
   ]
  },
  {
   "cell_type": "code",
   "execution_count": 7,
   "metadata": {},
   "outputs": [],
   "source": [
    "# from random import randint\n",
    "# Random number generated for each pokemon id\n",
    "\n",
    "import requests\n",
    "party = ['heracross', 'vaporeon','flygon','charizard','pidgeot','crobat']\n",
    "\n",
    "\n",
    "def poke_api_call(pokemon):\n",
    "    req = requests.get(f'https://pokeapi.co/api/v2/pokemon/{pokemon}')\n",
    "    if req.status_code == 200:\n",
    "        data = req.json()\n",
    "    \n",
    "        name = data['name']\n",
    "        types = [pokemon['type']['name'] for pokemon in data['types']]\n",
    "        abilities = [pokemon['ability']['name'] for pokemon in data['abilities']]\n",
    "        weight = data['weight']\n",
    "    \n",
    "        poke = {\n",
    "            \"name\": name,\n",
    "            'abilities': abilities,\n",
    "            'weight': weight,\n",
    "            'types' : types\n",
    "        }\n",
    "        return poke"
   ]
  },
  {
   "cell_type": "code",
   "execution_count": null,
   "metadata": {},
   "outputs": [],
   "source": []
  },
  {
   "cell_type": "markdown",
   "metadata": {},
   "source": [
    "#### Use your function to create a dictionary of your favorite 6 pokemon"
   ]
  },
  {
   "cell_type": "code",
   "execution_count": 18,
   "metadata": {},
   "outputs": [
    {
     "name": "stdout",
     "output_type": "stream",
     "text": [
      "[54, 894, 493, 547, 567, 711]\n"
     ]
    }
   ],
   "source": [
    "from random import randint\n",
    "import requests\n",
    "# Random number generated for each pokemon id\n",
    "random_team = [randint(1,898) for i in range(6)]\n",
    "\n",
    "\n",
    "\n",
    "print(random_team)\n",
    "def poke_api_call_by_id(pokemon):\n",
    "    req = requests.get(f'https://pokeapi.co/api/v2/pokemon/{id}')\n",
    "    if req.status_code == 200:\n",
    "        data = req.json()\n",
    "    \n",
    "        name = data['name']\n",
    "        types = [pokemon['type']['name'] for pokemon in data['types']]\n",
    "        abilities = [pokemon['ability']['name'] for pokemon in data['abilities']]\n",
    "        weight = data['weight']\n",
    "    \n",
    "        poke = {\n",
    "            \"name\": name,\n",
    "            'abilities': abilities,\n",
    "            'weight': weight,\n",
    "            'types' : types\n",
    "        }\n",
    "        return poke\n",
    "\n"
   ]
  },
  {
   "cell_type": "code",
   "execution_count": 19,
   "metadata": {
    "scrolled": true
   },
   "outputs": [
    {
     "data": {
      "text/plain": [
       "{'Psyduck': {'name': 'psyduck',\n",
       "  'abilities': ['damp', 'cloud-nine', 'swift-swim'],\n",
       "  'weight': 196,\n",
       "  'types': ['water']},\n",
       " 'Regieleki': {'name': 'regieleki',\n",
       "  'abilities': ['transistor'],\n",
       "  'weight': 1450,\n",
       "  'types': ['electric']},\n",
       " 'Arceus': {'name': 'arceus',\n",
       "  'abilities': ['multitype'],\n",
       "  'weight': 3200,\n",
       "  'types': ['normal']},\n",
       " 'Whimsicott': {'name': 'whimsicott',\n",
       "  'abilities': ['prankster', 'infiltrator', 'chlorophyll'],\n",
       "  'weight': 66,\n",
       "  'types': ['grass', 'fairy']},\n",
       " 'Archeops': {'name': 'archeops',\n",
       "  'abilities': ['defeatist'],\n",
       "  'weight': 320,\n",
       "  'types': ['rock', 'flying']},\n",
       " 'Gourgeist-Average': {'name': 'gourgeist-average',\n",
       "  'abilities': ['pickup', 'frisk', 'insomnia'],\n",
       "  'weight': 125,\n",
       "  'types': ['ghost', 'grass']}}"
      ]
     },
     "execution_count": 19,
     "metadata": {},
     "output_type": "execute_result"
    }
   ],
   "source": [
    "my_six_pokemon = {}\n",
    "for id in random_team:\n",
    "    poke_stats = poke_api_call_by_id(id)\n",
    "    my_six_pokemon[poke_stats['name'].title()] = poke_stats\n",
    "\n",
    "my_six_pokemon"
   ]
  },
  {
   "cell_type": "code",
   "execution_count": null,
   "metadata": {},
   "outputs": [],
   "source": []
  },
  {
   "cell_type": "code",
   "execution_count": 20,
   "metadata": {},
   "outputs": [
    {
     "data": {
      "text/plain": [
       "{'Heracross': {'name': 'heracross',\n",
       "  'abilities': ['swarm', 'guts', 'moxie'],\n",
       "  'weight': 540,\n",
       "  'types': ['bug', 'fighting']},\n",
       " 'Vaporeon': {'name': 'vaporeon',\n",
       "  'abilities': ['water-absorb', 'hydration'],\n",
       "  'weight': 290,\n",
       "  'types': ['water']},\n",
       " 'Flygon': {'name': 'flygon',\n",
       "  'abilities': ['levitate'],\n",
       "  'weight': 820,\n",
       "  'types': ['ground', 'dragon']},\n",
       " 'Charizard': {'name': 'charizard',\n",
       "  'abilities': ['blaze', 'solar-power'],\n",
       "  'weight': 905,\n",
       "  'types': ['fire', 'flying']},\n",
       " 'Pidgeot': {'name': 'pidgeot',\n",
       "  'abilities': ['keen-eye', 'tangled-feet', 'big-pecks'],\n",
       "  'weight': 395,\n",
       "  'types': ['normal', 'flying']},\n",
       " 'Crobat': {'name': 'crobat',\n",
       "  'abilities': ['inner-focus', 'infiltrator'],\n",
       "  'weight': 750,\n",
       "  'types': ['poison', 'flying']}}"
      ]
     },
     "execution_count": 20,
     "metadata": {},
     "output_type": "execute_result"
    }
   ],
   "source": [
    "# Place all 6 of your pokemon on the object below, each pokemon should have at least as much info as Pikachu did.\n",
    "my_pokemon_party = {}\n",
    "\n",
    "for member in party:\n",
    "    poke_stats = poke_api_call(member)\n",
    "    my_pokemon_party[poke_stats['name'].title()] = poke_stats\n",
    "\n",
    "my_pokemon_party"
   ]
  },
  {
   "cell_type": "markdown",
   "metadata": {},
   "source": [
    "## Lets create a class called 'Pokemon' and create our pokemon as instances"
   ]
  },
  {
   "cell_type": "code",
   "execution_count": 3,
   "metadata": {},
   "outputs": [],
   "source": [
    "class Pokemon():\n",
    "    def __init__(self,name):\n",
    "        self.name = name\n",
    "        self.types = []\n",
    "        self.abilities = []\n",
    "        self.weight = None\n",
    "        self.poke_api_call()\n",
    "        \n",
    "    def poke_api_call(self):\n",
    "        r = requests.get(f\"https://pokeapi.co/api/v2/pokemon/{self.name}\")\n",
    "        if r.status_code == 200:\n",
    "            pokemon = r.json()\n",
    "        else:\n",
    "            print(f'Ran into an issue {r.status_code}')\n",
    "            return\n",
    "        self.name = pokemon['name']\n",
    "        self.types = [pokemon['type']['name'] for pokemon in data['types']]\n",
    "        self.abilities = [poke['ability']['name'] for poke in data['abilities']]\n",
    "        self.weight = pokemon['weight']\n",
    "        print(f'{self.name}\\'data has been updated! ')\n",
    "        \n",
    "    def __repr__(self):\n",
    "        return f\"You caught a {self.name}!!\"\n",
    "\n"
   ]
  },
  {
   "cell_type": "markdown",
   "metadata": {},
   "source": [
    "### Let's Catch some Pokemon"
   ]
  },
  {
   "cell_type": "code",
   "execution_count": 4,
   "metadata": {},
   "outputs": [
    {
     "ename": "NameError",
     "evalue": "name 'requests' is not defined",
     "output_type": "error",
     "traceback": [
      "\u001b[0;31m---------------------------------------------------------------------------\u001b[0m",
      "\u001b[0;31mNameError\u001b[0m                                 Traceback (most recent call last)",
      "Input \u001b[0;32mIn [4]\u001b[0m, in \u001b[0;36m<cell line: 1>\u001b[0;34m()\u001b[0m\n\u001b[0;32m----> 1\u001b[0m pikachu \u001b[38;5;241m=\u001b[39m \u001b[43mPokemon\u001b[49m\u001b[43m(\u001b[49m\u001b[38;5;124;43m'\u001b[39;49m\u001b[38;5;124;43mpikachu\u001b[39;49m\u001b[38;5;124;43m'\u001b[39;49m\u001b[43m)\u001b[49m\n\u001b[1;32m      3\u001b[0m \u001b[38;5;28mprint\u001b[39m(pikachu\u001b[38;5;241m.\u001b[39m\u001b[38;5;18m__dict__\u001b[39m)\n\u001b[1;32m      5\u001b[0m \u001b[38;5;28mprint\u001b[39m(\u001b[38;5;28mtype\u001b[39m(pikachu))\n",
      "Input \u001b[0;32mIn [3]\u001b[0m, in \u001b[0;36mPokemon.__init__\u001b[0;34m(self, name)\u001b[0m\n\u001b[1;32m      5\u001b[0m \u001b[38;5;28mself\u001b[39m\u001b[38;5;241m.\u001b[39mabilities \u001b[38;5;241m=\u001b[39m []\n\u001b[1;32m      6\u001b[0m \u001b[38;5;28mself\u001b[39m\u001b[38;5;241m.\u001b[39mweight \u001b[38;5;241m=\u001b[39m \u001b[38;5;28;01mNone\u001b[39;00m\n\u001b[0;32m----> 7\u001b[0m \u001b[38;5;28;43mself\u001b[39;49m\u001b[38;5;241;43m.\u001b[39;49m\u001b[43mpoke_api_call\u001b[49m\u001b[43m(\u001b[49m\u001b[43m)\u001b[49m\n",
      "Input \u001b[0;32mIn [3]\u001b[0m, in \u001b[0;36mPokemon.poke_api_call\u001b[0;34m(self)\u001b[0m\n\u001b[1;32m      9\u001b[0m \u001b[38;5;28;01mdef\u001b[39;00m \u001b[38;5;21mpoke_api_call\u001b[39m(\u001b[38;5;28mself\u001b[39m):\n\u001b[0;32m---> 10\u001b[0m     r \u001b[38;5;241m=\u001b[39m \u001b[43mrequests\u001b[49m\u001b[38;5;241m.\u001b[39mget(\u001b[38;5;124mf\u001b[39m\u001b[38;5;124m\"\u001b[39m\u001b[38;5;124mhttps://pokeapi.co/api/v2/pokemon/\u001b[39m\u001b[38;5;132;01m{\u001b[39;00m\u001b[38;5;28mself\u001b[39m\u001b[38;5;241m.\u001b[39mname\u001b[38;5;132;01m}\u001b[39;00m\u001b[38;5;124m\"\u001b[39m)\n\u001b[1;32m     11\u001b[0m     \u001b[38;5;28;01mif\u001b[39;00m r\u001b[38;5;241m.\u001b[39mstatus_code \u001b[38;5;241m==\u001b[39m \u001b[38;5;241m200\u001b[39m:\n\u001b[1;32m     12\u001b[0m         pokemon \u001b[38;5;241m=\u001b[39m r\u001b[38;5;241m.\u001b[39mjson()\n",
      "\u001b[0;31mNameError\u001b[0m: name 'requests' is not defined"
     ]
    }
   ],
   "source": [
    "pikachu = Pokemon('pikachu')\n",
    "\n",
    "print(pikachu.__dict__)\n",
    "\n",
    "print(type(pikachu))\n",
    "\n",
    "print(pikachu)"
   ]
  },
  {
   "cell_type": "code",
   "execution_count": null,
   "metadata": {},
   "outputs": [],
   "source": [
    "pokemon = ['lugia', 'pikachu', 'charmander', 'bulbasaur', 'squirtle', 'hitmonlee']\n",
    "randoms = [ randint(1,898) for i in range(6)]\n",
    "# dictionary of structure {name: object,}\n",
    "pokedex = {}\n",
    "\n",
    "for name in randoms:\n",
    "    new = Pokemon(name)\n",
    "    pokedex[new.name] = new\n",
    "    \n",
    "pokedex"
   ]
  },
  {
   "cell_type": "markdown",
   "metadata": {},
   "source": [
    "## Exercise 1:"
   ]
  },
  {
   "cell_type": "markdown",
   "metadata": {},
   "source": [
    "### Create a Method prints an image of your pokemon\n",
    "\n",
    "<p>HINT: You may need another attribute as well to store your image url within. </p>"
   ]
  },
  {
   "cell_type": "code",
   "execution_count": null,
   "metadata": {},
   "outputs": [],
   "source": [
    "# Display an image in Jupyter notebook\n",
    "from IPython.display import Image\n",
    "\n",
    "# display(Image( 'https://i.redd.it/45n4mhusa8l41.jpg', width = 300))\n"
   ]
  },
  {
   "cell_type": "code",
   "execution_count": null,
   "metadata": {},
   "outputs": [],
   "source": [
    "class Pokemon():\n",
    "    def __init__(self,name):\n",
    "        super().__init__()\n",
    "        self.name = name\n",
    "        self.types = []\n",
    "        self.abilities = []\n",
    "        self.weight = None\n",
    "        # new image attribute\n",
    "        self.image = None\n",
    "        self.poke_api_call()\n",
    "        \n",
    "    def poke_api_call(self):\n",
    "        r = requests.get(f\"https://pokeapi.co/api/v2/pokemon/{self.name}\")\n",
    "        if r.status_code == 200:\n",
    "            pokemon = r.json()\n",
    "        else:\n",
    "            print(f'Ran into an issue {r.status_code}')\n",
    "            return\n",
    "        self.name = pokemon['name']\n",
    "        self.types = [pokemon['type']['name'] for pokemon in data['types']]\n",
    "        self.abilities = [poke['ability']['name'] for poke in data['abilities']]\n",
    "        self.weight = pokemon['weight']\n",
    "        # new image details \n",
    "        self.image = pokemon[\"sprites\"][\"front_default\"]\n",
    "        print(f'You\\'ve got a new {self.name}!')\n",
    "    \n",
    "    # display image method \n",
    "    def display(self):\n",
    "        display(Image(url = self.image))\n",
    "        \n",
    "    def __repr__(self):\n",
    "        return f\"You caught a {self.name}!!\""
   ]
  },
  {
   "cell_type": "code",
   "execution_count": null,
   "metadata": {},
   "outputs": [],
   "source": [
    "lugia = Pokemon(\"lugia\")\n",
    "\n",
    "print(lugia.image)"
   ]
  },
  {
   "cell_type": "code",
   "execution_count": null,
   "metadata": {},
   "outputs": [],
   "source": [
    "# Calling our new method\n",
    "lugia.display()"
   ]
  },
  {
   "cell_type": "markdown",
   "metadata": {},
   "source": [
    "## Exercise 2:"
   ]
  },
  {
   "cell_type": "markdown",
   "metadata": {},
   "source": [
    "### Create a Method that evolves your Pokemon\n",
    "If your pokemon can't evolve any further print a message that says \"\\<name of pokemon> can't evolve.\""
   ]
  },
  {
   "cell_type": "code",
   "execution_count": null,
   "metadata": {},
   "outputs": [],
   "source": [
    "from time import sleep\n",
    "\n",
    "class Evolver:\n",
    "        \n",
    "    def evolve(self):\n",
    "        # API call for pokemon's species\n",
    "        r = requests.get(f\"https://pokeapi.co/api/v2/pokemon-species/{self.name}/\")\n",
    "        if r.status_code == 200:\n",
    "            pokemon_species = r.json()\n",
    "        else:\n",
    "            print(f'Ran into an issue {r.status_code}')\n",
    "            return\n",
    "        \n",
    "        #API call for species evolutionary chain\n",
    "        r = requests.get(pokemon_species['evolution_chain']['url'])\n",
    "        if r.status_code == 200:\n",
    "            ev_chain = r.json()\n",
    "            ev_chain = ev_chain['chain']\n",
    "        else:\n",
    "            print(f\"Ran into an issue {r.status_code}\")\n",
    "            return\n",
    "        \n",
    "\n",
    "        base_name = ev_chain[\"species\"][\"name\"]\n",
    "#         print(base_name, 'base name')\n",
    "        evolution = ev_chain['evolves_to'][0]\n",
    "        evolution_name = evolution['species']['name']\n",
    "        # Evolution 1\n",
    "        if base_name == self.name:\n",
    "            pass\n",
    "            \n",
    "        # Evolution 2\n",
    "        elif evolution_name == self.name:\n",
    "            evolution_name = evolution['evolves_to'][0]['species']['name']\n",
    "      \n",
    "        # Evolution 3\n",
    "        else:\n",
    "            print(f\"You can't evolve your {self.name} anymore. \")\n",
    "            return\n",
    "        \n",
    "        print('.......')\n",
    "        sleep(1)\n",
    "        print(f\"Your {self.name} is evolving!?!?\")\n",
    "        self.display()\n",
    "        sleep(1)\n",
    "        print('................')\n",
    "        self.name = evolution_name\n",
    "        self.poke_api_call()\n",
    "        self.display()\n",
    "\n"
   ]
  },
  {
   "cell_type": "code",
   "execution_count": null,
   "metadata": {},
   "outputs": [],
   "source": [
    "charmander = Pokemon(\"charmander\")\n"
   ]
  },
  {
   "cell_type": "code",
   "execution_count": null,
   "metadata": {
    "scrolled": true
   },
   "outputs": [],
   "source": [
    "charmander.evolve()"
   ]
  },
  {
   "cell_type": "code",
   "execution_count": null,
   "metadata": {},
   "outputs": [],
   "source": []
  },
  {
   "cell_type": "code",
   "execution_count": null,
   "metadata": {},
   "outputs": [],
   "source": []
  },
  {
   "cell_type": "markdown",
   "metadata": {},
   "source": [
    "#  Final Exercise: <br> <br>Create a Move_Tutor Class that will allow the Pokemon Class to inherit a move list.\n",
    "<br>\n",
    "<p>for an added bonus you can make sure that if a pokemon has 4 moves the user can choose one of them to replace with a new move. </p>"
   ]
  },
  {
   "cell_type": "code",
   "execution_count": null,
   "metadata": {},
   "outputs": [],
   "source": [
    "import requests\n",
    "from time import sleep\n",
    "\n",
    "class Move_Tutor:\n",
    "    def __init__(self):\n",
    "        self.name = name\n",
    "        self.teacable_moves = []\n",
    "        self.taught_list = []\n",
    "        self.poke_api_call()\n",
    "        \n",
    "    def poke_api_call(self):\n",
    "        r = requests.get(f'https://pokeapi.co/api/v2/pokemon/{self.name.lower()}.')\n",
    "        if r.status_code == 200:\n",
    "            pokemon = r.json()\n",
    "        else:\n",
    "            print(f'Please check the name of your Pokemon to make sure your spelling is correct. {r.status_code}')\n",
    "            return\n",
    "        \n",
    "        self.name = ['name']\n",
    "        self.teachable_moves =  \n",
    "        \n",
    "        self.types = [pokemon['type']['name'] for pokemon in data['types']]\n",
    "        self.abilities = [poke['ability']['name'] for poke in data['abilities']]\n",
    "        self.weight = pokemon['weight']\n",
    "        # new image details \n",
    "        self.image = pokemon[\"sprites\"][\"front_default\"]\n",
    "        print(f'You\\'ve got a new {self.name}!')\n",
    "    \n",
    "    def teachable_list(self):\n",
    "        \n",
    "   "
   ]
  },
  {
   "cell_type": "code",
   "execution_count": null,
   "metadata": {},
   "outputs": [],
   "source": [
    "pikachu.teach_move()\n"
   ]
  },
  {
   "cell_type": "code",
   "execution_count": null,
   "metadata": {},
   "outputs": [],
   "source": [
    "pikachu.show_moves()"
   ]
  }
 ],
 "metadata": {
  "kernelspec": {
   "display_name": "Python 3 (ipykernel)",
   "language": "python",
   "name": "python3"
  },
  "language_info": {
   "codemirror_mode": {
    "name": "ipython",
    "version": 3
   },
   "file_extension": ".py",
   "mimetype": "text/x-python",
   "name": "python",
   "nbconvert_exporter": "python",
   "pygments_lexer": "ipython3",
   "version": "3.9.12"
  }
 },
 "nbformat": 4,
 "nbformat_minor": 4
}
