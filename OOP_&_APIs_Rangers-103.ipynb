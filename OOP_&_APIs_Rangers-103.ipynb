{
 "cells": [
  {
   "cell_type": "markdown",
   "metadata": {},
   "source": [
    "# Object Oriented Programming 2 - examples and APIs\n"
   ]
  },
  {
   "cell_type": "markdown",
   "metadata": {},
   "source": [
    "## Tasks Today:\n",
    "\n",
    "   \n",
    "\n",
    "1) <b>Shopping Cart Example</b> <br>\n",
    "2) <b>Requests and the pokemon API </b> <br>\n",
    " "
   ]
  },
  {
   "cell_type": "markdown",
   "metadata": {},
   "source": [
    "# Goal \n",
    "### build a shopping cart program with prices and quantities using objects and a dictionary"
   ]
  },
  {
   "cell_type": "code",
   "execution_count": 1,
   "metadata": {},
   "outputs": [],
   "source": [
    "from IPython.display import clear_output as clear\n",
    "# Create a class called cart that retains items and has methods to add, remove, and show\n",
    "\n",
    "class Cart():\n",
    "    def __init__(self):\n",
    "        self.items = {}\n",
    "        \n",
    "    #add items to your cart\n",
    "    def add(self):\n",
    "        clear()\n",
    "        new_item = input(\"What do you want to add? \")\n",
    "        quantity = int(input(f'How many {new_item}(s) do you want to add? (insert number).'))\n",
    "        if new_item not in self.items.keys():\n",
    "            self.items[new_item] = quantity\n",
    "        else:\n",
    "            self.items[new_items] += quantity\n",
    "        print(f'{quantity} {new_item}(s) is/are in the cart.')\n",
    "        \n",
    "        \n",
    "    #remove items from your cart\n",
    "    def remove(self):\n",
    "        clear()\n",
    "        discard = input(\"What would you like to discard?\")\n",
    "        quantity = int(input(\"How many would you like to remove?\"))\n",
    "        try:\n",
    "            self.items[discard] -= quantity\n",
    "            if self.items[discard] <= 0:\n",
    "                del self.items[discard]\n",
    "            print(f'{quantity} {discard}(s) have been removed.')\n",
    "        except:\n",
    "            print(f'{discard} was not in your cart!')\n",
    "        self.show()\n",
    "        \n",
    "    \n",
    "    #show the cart\n",
    "    def show(self):\n",
    "        print(\"Your cart has the following items: \")\n",
    "        for item, quantity in self.items.items(): #.items() refers to the key value pairs\n",
    "            print(f'{item} | quantity: {quantity}')\n",
    "            \n",
    "            \n",
    "    #checkout items from yoru cart\n",
    "    def checkout(self):\n",
    "        clear()\n",
    "        if not self.items:\n",
    "            print(\"Please add something to your cart.\")\n",
    "        else:\n",
    "            print(\"Thanks for shopping with us.\")\n",
    "            self.show()\n",
    "            \n",
    "#control flow\n",
    "class Main:\n",
    "    def showInstructions():\n",
    "        print(\"\"\"\n",
    "        Welcome to ALDI alliance!\n",
    "        Options:\n",
    "        [1] Show Current Cart\n",
    "        [2] Add Item\n",
    "        [3] Remove Item\n",
    "        [4] Quit\n",
    "        [5] Show  Instructions\n",
    "        \"\"\")\n",
    "    \n",
    "    def run():\n",
    "        Main.showInstructions()\n",
    "        my_cart = Cart()\n",
    "        \n",
    "        while True:\n",
    "            choice = input(\"What would you like to do? \")\n",
    "            if choice == '1':\n",
    "                if my_cart.items == {}:\n",
    "                    print('Your cart is empty... start shopping')\n",
    "                else:\n",
    "                    my_cart.show()\n",
    "            elif choice == '2':\n",
    "                my_cart.add()\n",
    "            elif choice == '3':\n",
    "                if my_cart.items == {}:\n",
    "                    print('your cart is empty... add something before you remove it')\n",
    "                else:\n",
    "                    my_cart.remove()\n",
    "            elif choice == '4':\n",
    "                my_cart.checkout()\n",
    "                break\n",
    "\n",
    "            elif choice == '5':\n",
    "                Main.showInstructions()\n",
    "\n",
    "            else:\n",
    "                print(\"invalid input... please try again.\")"
   ]
  },
  {
   "cell_type": "code",
   "execution_count": null,
   "metadata": {},
   "outputs": [],
   "source": [
    "%autosave 30"
   ]
  },
  {
   "cell_type": "code",
   "execution_count": null,
   "metadata": {},
   "outputs": [],
   "source": [
    "Main.run()"
   ]
  },
  {
   "cell_type": "markdown",
   "metadata": {},
   "source": [
    "# working with APis"
   ]
  },
  {
   "cell_type": "markdown",
   "metadata": {},
   "source": [
    "<p> What exactly is an API? <br> <br>\n",
    "API is the acronym for Application Programming Interface, which is a software intermediary that allows two applications to talk to each other. Each time you use an app like Facebook, send an instant message, or check the weather on your phone, you're using an API. </p>"
   ]
  },
  {
   "cell_type": "markdown",
   "metadata": {},
   "source": [
    "### The Poke API  allows you to retreive a pokemon's information from PokeAPI https://pokeapi.co/\n",
    "\n"
   ]
  },
  {
   "cell_type": "code",
   "execution_count": 2,
   "metadata": {},
   "outputs": [
    {
     "name": "stdout",
     "output_type": "stream",
     "text": [
      "dict_keys(['abilities', 'base_experience', 'forms', 'game_indices', 'height', 'held_items', 'id', 'is_default', 'location_area_encounters', 'moves', 'name', 'order', 'past_types', 'species', 'sprites', 'stats', 'types', 'weight'])\n"
     ]
    }
   ],
   "source": [
    "# making an API call\n",
    "import requests\n",
    "\n",
    "r = requests.get('https://pokeapi.co/api/v2/pokemon/charmander')\n",
    "if r.status_code == 200:\n",
    "    data = r.json()\n",
    "print(data.keys())"
   ]
  },
  {
   "cell_type": "markdown",
   "metadata": {},
   "source": [
    "### Display a Pokemon's name, weight, abilities, and types"
   ]
  },
  {
   "cell_type": "code",
   "execution_count": null,
   "metadata": {},
   "outputs": [],
   "source": [
    "# get the name\n",
    "\n",
    "name = data['name']\n",
    "print(name)\n"
   ]
  },
  {
   "cell_type": "code",
   "execution_count": null,
   "metadata": {},
   "outputs": [],
   "source": [
    "# get types\n",
    "types = [type_['type']['name'] for type_ in data['types']]\n",
    "print(types)"
   ]
  },
  {
   "cell_type": "code",
   "execution_count": null,
   "metadata": {},
   "outputs": [],
   "source": [
    "# get weight\n",
    "weight = data['weight']\n",
    "\n",
    "print(weight)"
   ]
  },
  {
   "cell_type": "code",
   "execution_count": null,
   "metadata": {},
   "outputs": [],
   "source": [
    "# get abilities\n",
    "abilities = [ability['ability']['name'] for ability in data['abilities']]\n",
    "\n",
    "print(abilities)"
   ]
  },
  {
   "cell_type": "code",
   "execution_count": null,
   "metadata": {},
   "outputs": [],
   "source": [
    "# Create a structure for a single pokemon\n",
    "my_pokemon = {\n",
    "    'name': '',\n",
    "    'abilities': [],\n",
    "    'weight': '',\n",
    "    'types': [], \n",
    "    \n",
    "}"
   ]
  },
  {
   "cell_type": "code",
   "execution_count": null,
   "metadata": {},
   "outputs": [],
   "source": [
    "charmander = {\n",
    "    'name': name,\n",
    "    'abilities': abilities, \n",
    "    'weight': weight,\n",
    "    'types': types\n",
    "}\n",
    "\n",
    "print(charmander)"
   ]
  },
  {
   "cell_type": "markdown",
   "metadata": {},
   "source": [
    "#### Create a function to Pull in your own Pokemon's data "
   ]
  },
  {
   "cell_type": "code",
   "execution_count": 3,
   "metadata": {},
   "outputs": [
    {
     "name": "stdout",
     "output_type": "stream",
     "text": [
      "{'Heracross': {'name': 'heracross', 'abilities': ['swarm', 'guts', 'moxie'], 'weight': 540, 'types': ['bug', 'fighting']}, 'Vaporeon': {'name': 'vaporeon', 'abilities': ['water-absorb', 'hydration'], 'weight': 290, 'types': ['water']}, 'Flygon': {'name': 'flygon', 'abilities': ['levitate'], 'weight': 820, 'types': ['ground', 'dragon']}, 'Charizard': {'name': 'charizard', 'abilities': ['blaze', 'solar-power'], 'weight': 905, 'types': ['fire', 'flying']}, 'Pidgeot': {'name': 'pidgeot', 'abilities': ['keen-eye', 'tangled-feet', 'big-pecks'], 'weight': 395, 'types': ['normal', 'flying']}, 'Crobat': {'name': 'crobat', 'abilities': ['inner-focus', 'infiltrator'], 'weight': 750, 'types': ['poison', 'flying']}}\n"
     ]
    }
   ],
   "source": [
    "import requests\n",
    "party = ['heracross', 'vaporeon','flygon','charizard','pidgeot','crobat']\n",
    "\n",
    "def poke_api_call(pokemon):\n",
    "    req = requests.get(f'https://pokeapi.co/api/v2/pokemon/{pokemon}')\n",
    "    if req.status_code == 200:\n",
    "        data = req.json()\n",
    "        \n",
    "        name = data['name']\n",
    "        types = [pokemon['type']['name'] for pokemon in data['types']]\n",
    "        abilities = [pokemon['ability']['name'] for pokemon in data['abilities']]\n",
    "        weight = data['weight']\n",
    "        \n",
    "        poke = {\n",
    "            \"name\": name, \n",
    "            \"abilities\": abilities,\n",
    "            \"weight\": weight,\n",
    "            \"types\": types,\n",
    "        }\n",
    "        \n",
    "        return poke \n",
    "    \n",
    "# Place all 6 of your pokemon on the object below, each pokemon should have at least as much info as Pikachu did.\n",
    "my_six_pokemon = {}\n",
    "\n",
    "for pokemon in party:\n",
    "    poke_stats = poke_api_call(pokemon)\n",
    "    my_six_pokemon[poke_stats['name'].title()] = poke_stats\n",
    "\n",
    "print(my_six_pokemon)"
   ]
  },
  {
   "cell_type": "markdown",
   "metadata": {},
   "source": [
    "Choose your pokemon"
   ]
  },
  {
   "cell_type": "code",
   "execution_count": null,
   "metadata": {},
   "outputs": [],
   "source": [
    "from random import randint\n",
    "# Random number generated for each pokemon id\n",
    "random_team = [randint(1,898) for i in range(6)]\n",
    "\n",
    "your_team = ['electabuzz', 'haunter','tyranitar','blaziken','marowak','dragonair']\n"
   ]
  },
  {
   "cell_type": "markdown",
   "metadata": {},
   "source": [
    "#### Use your function to create a dictionary of your favorite 6 pokemon"
   ]
  },
  {
   "cell_type": "code",
   "execution_count": null,
   "metadata": {},
   "outputs": [],
   "source": [
    "# Place all 6 of your pokemon on the object below, each pokemon should have at least as much info as Pikachu did.\n",
    "my_six_pokemon = {}\n"
   ]
  },
  {
   "cell_type": "markdown",
   "metadata": {},
   "source": [
    "## Lets create a class called 'Pokemon' and create our pokemon as instances"
   ]
  },
  {
   "cell_type": "code",
   "execution_count": 4,
   "metadata": {},
   "outputs": [],
   "source": [
    "class Pokemon():\n",
    "    def __init__(self, name):\n",
    "        self.name = name\n",
    "        self.types = []\n",
    "        self.abilities = []\n",
    "        self.weight = None\n",
    "        self.poke_api_call()\n",
    "        \n",
    "    def poke_api_call(self):\n",
    "        r = requests.get(f'https://pokeapi.co/api/v2/pokemon/{self.name}')\n",
    "        if r.status_code == 200:\n",
    "            pokemon = r.json()\n",
    "        else:\n",
    "            print(f'Please check pokemon name spelling and trying again: {r.status_code}')\n",
    "            return\n",
    "           \n",
    "        self.name = pokemon['name']\n",
    "        self.types = [pokemon['type']['name'] for pokemon in pokemon['types']]\n",
    "        self.abilities = [pokemon['ability']['name'] for pokemon in pokemon['abilities']]\n",
    "        self.weight = pokemon['weight']\n",
    "        print(f\"{self.name}'s data has been updated!\")\n",
    "        \n",
    "    def __repr__(self):\n",
    "        return f'You caught a {self.name}!'"
   ]
  },
  {
   "cell_type": "markdown",
   "metadata": {},
   "source": [
    "### Let's Catch some Pokemon"
   ]
  },
  {
   "cell_type": "code",
   "execution_count": 5,
   "metadata": {},
   "outputs": [
    {
     "name": "stdout",
     "output_type": "stream",
     "text": [
      "charmander's data has been updated!\n",
      "You caught a charmander!\n",
      "{'name': 'charmander', 'types': ['fire'], 'abilities': ['blaze', 'solar-power'], 'weight': 85}\n"
     ]
    }
   ],
   "source": [
    "charmander = Pokemon(\"charmander\")\n",
    "print(charmander)\n",
    "\n",
    "print(charmander.__dict__)"
   ]
  },
  {
   "cell_type": "code",
   "execution_count": 6,
   "metadata": {},
   "outputs": [
    {
     "name": "stdout",
     "output_type": "stream",
     "text": [
      "heracross's data has been updated!\n",
      "vaporeon's data has been updated!\n",
      "flygon's data has been updated!\n",
      "charizard's data has been updated!\n",
      "pidgeot's data has been updated!\n",
      "crobat's data has been updated!\n"
     ]
    },
    {
     "data": {
      "text/plain": [
       "{'heracross': {'name': 'heracross',\n",
       "  'types': ['bug', 'fighting'],\n",
       "  'abilities': ['swarm', 'guts', 'moxie'],\n",
       "  'weight': 540},\n",
       " 'vaporeon': {'name': 'vaporeon',\n",
       "  'types': ['water'],\n",
       "  'abilities': ['water-absorb', 'hydration'],\n",
       "  'weight': 290},\n",
       " 'flygon': {'name': 'flygon',\n",
       "  'types': ['ground', 'dragon'],\n",
       "  'abilities': ['levitate'],\n",
       "  'weight': 820},\n",
       " 'charizard': {'name': 'charizard',\n",
       "  'types': ['fire', 'flying'],\n",
       "  'abilities': ['blaze', 'solar-power'],\n",
       "  'weight': 905},\n",
       " 'pidgeot': {'name': 'pidgeot',\n",
       "  'types': ['normal', 'flying'],\n",
       "  'abilities': ['keen-eye', 'tangled-feet', 'big-pecks'],\n",
       "  'weight': 395},\n",
       " 'crobat': {'name': 'crobat',\n",
       "  'types': ['poison', 'flying'],\n",
       "  'abilities': ['inner-focus', 'infiltrator'],\n",
       "  'weight': 750}}"
      ]
     },
     "execution_count": 6,
     "metadata": {},
     "output_type": "execute_result"
    }
   ],
   "source": [
    "party = ['heracross', 'vaporeon','flygon','charizard','pidgeot','crobat']\n",
    "pokedex = {}\n",
    "for name in party:\n",
    "    new = Pokemon(name)\n",
    "    pokedex[new.name] = new.__dict__\n",
    "    \n",
    "pokedex"
   ]
  },
  {
   "cell_type": "markdown",
   "metadata": {},
   "source": [
    "## Exercise 1:"
   ]
  },
  {
   "cell_type": "markdown",
   "metadata": {},
   "source": [
    "### Create a Method prints an image of your pokemon\n",
    "\n",
    "<p>HINT: You may need another attribute as well to store your image url within. </p>"
   ]
  },
  {
   "cell_type": "code",
   "execution_count": 9,
   "metadata": {},
   "outputs": [],
   "source": [
    "# Display an image in Jupyter notebook\n",
    "import requests\n",
    "from IPython.display import Image\n",
    "\n",
    "class Pokemon(Evolver):\n",
    "    def __init__(self, name):\n",
    "        self.name = name\n",
    "        self.types = []\n",
    "        self.abilities = []\n",
    "        self.weight = None\n",
    "        self.image = None\n",
    "        self.poke_api_call()\n",
    "        \n",
    "    def poke_api_call(self):\n",
    "        r = requests.get(f\"https://pokeapi.co/api/v2/pokemon/{self.name.lower()}\")\n",
    "        if r.status_code == 200:\n",
    "            pokemon = r.json()\n",
    "        else:\n",
    "            print(f\"Please check pokemon name spelling and try again: {r.status_code}\")\n",
    "            return\n",
    "        \n",
    "        self.name = pokemon['name']\n",
    "        self.types = [pokemon['type']['name'] for pokemon in pokemon['types']]\n",
    "        self.abilities = [pokemon['ability']['name'] for pokemon in pokemon['abilities']]\n",
    "        self.weight = pokemon['weight']\n",
    "        self.image = pokemon['sprites']['front_shiny']\n",
    "        print(f\"{self.name}'s data has been updated!\")\n",
    "        \n",
    "    #disply our image with a method\n",
    "    def display(self):\n",
    "        display(Image(url = self.image))\n",
    "        \n",
    "    def __repr__(self):\n",
    "        return f\"You caught a {self.name}!!\""
   ]
  },
  {
   "cell_type": "code",
   "execution_count": 10,
   "metadata": {},
   "outputs": [
    {
     "name": "stdout",
     "output_type": "stream",
     "text": [
      "heracross's data has been updated!\n"
     ]
    },
    {
     "data": {
      "text/html": [
       "<img src=\"https://raw.githubusercontent.com/PokeAPI/sprites/master/sprites/pokemon/shiny/214.png\"/>"
      ],
      "text/plain": [
       "<IPython.core.display.Image object>"
      ]
     },
     "metadata": {},
     "output_type": "display_data"
    }
   ],
   "source": [
    "heracross = Pokemon(\"heracross\")\n",
    "heracross.display()"
   ]
  },
  {
   "cell_type": "code",
   "execution_count": null,
   "metadata": {},
   "outputs": [],
   "source": [
    "# Calling our new method\n"
   ]
  },
  {
   "cell_type": "markdown",
   "metadata": {},
   "source": [
    "## Exercise 2:"
   ]
  },
  {
   "cell_type": "markdown",
   "metadata": {},
   "source": [
    "### Create a Method that evolves your Pokemon\n",
    "If your pokemon can't evolve any further print a message that says \"\\<name of pokemon> can't evolve.\""
   ]
  },
  {
   "cell_type": "code",
   "execution_count": 8,
   "metadata": {},
   "outputs": [],
   "source": [
    "from time import sleep\n",
    "class Evolver:\n",
    "    def evolve(self):\n",
    "        #API call for pokemon's species\n",
    "        r = requests.get(f\"https://pokeapi.co/api/v2/pokemon-species/{self.name}/\")\n",
    "        if r.status_code == 200:\n",
    "            pokemon_species = r.json()\n",
    "        else:\n",
    "            print(f\"Ran into an issue. Please check your pokemon's name: {r.status_code}\")\n",
    "            return\n",
    "        \n",
    "        r = requests.get(pokemon_species['evolution_chain']['url'])\n",
    "        if r.status_code == 200:\n",
    "            ev_chain = r.json()\n",
    "            ev_chain = ev_chain['chain']\n",
    "        else:\n",
    "            print(f\"Ran into an issue, please check your pokemon's name: {r.status_code}\")\n",
    "            return\n",
    "        \n",
    "        \n",
    "        base_name = ev_chain['species']['name']\n",
    "        evolution = ev_chain['evolves_to'][0]\n",
    "        evolution_name = evolution['species']['name']\n",
    "        \n",
    "        #Evolution 1\n",
    "        if base_name == self.name:\n",
    "            pass\n",
    "        #Evolution 2\n",
    "        elif evolution_name == self.name:\n",
    "            evolution_name = evolution['evolves_to'][0]['species']['name']\n",
    "            \n",
    "        #Evolution\n",
    "        else: \n",
    "            print(f\"You cant evolve your {self.name} anymore...\")\n",
    "            return\n",
    "        \n",
    "        print('.........')\n",
    "        sleep(1)\n",
    "        print(f\"Your {self.name} is evolving!?!?!\")\n",
    "        self.display()\n",
    "        sleep(1)\n",
    "        print('...........')\n",
    "        self.name = evolution_name\n",
    "        self.poke_api_call()\n",
    "        self.display()"
   ]
  },
  {
   "cell_type": "markdown",
   "metadata": {},
   "source": [
    "Now let's evolve a few"
   ]
  },
  {
   "cell_type": "code",
   "execution_count": 11,
   "metadata": {
    "scrolled": true
   },
   "outputs": [
    {
     "name": "stdout",
     "output_type": "stream",
     "text": [
      "charmander's data has been updated!\n"
     ]
    }
   ],
   "source": [
    "charmander = Pokemon('charmander')"
   ]
  },
  {
   "cell_type": "code",
   "execution_count": 12,
   "metadata": {},
   "outputs": [
    {
     "name": "stdout",
     "output_type": "stream",
     "text": [
      ".........\n",
      "Your charmander is evolving!?!?!\n"
     ]
    },
    {
     "data": {
      "text/html": [
       "<img src=\"https://raw.githubusercontent.com/PokeAPI/sprites/master/sprites/pokemon/shiny/4.png\"/>"
      ],
      "text/plain": [
       "<IPython.core.display.Image object>"
      ]
     },
     "metadata": {},
     "output_type": "display_data"
    },
    {
     "name": "stdout",
     "output_type": "stream",
     "text": [
      "...........\n",
      "charmeleon's data has been updated!\n"
     ]
    },
    {
     "data": {
      "text/html": [
       "<img src=\"https://raw.githubusercontent.com/PokeAPI/sprites/master/sprites/pokemon/shiny/5.png\"/>"
      ],
      "text/plain": [
       "<IPython.core.display.Image object>"
      ]
     },
     "metadata": {},
     "output_type": "display_data"
    }
   ],
   "source": [
    "charmander.evolve()"
   ]
  },
  {
   "cell_type": "code",
   "execution_count": null,
   "metadata": {},
   "outputs": [],
   "source": []
  },
  {
   "cell_type": "markdown",
   "metadata": {},
   "source": [
    "#  Final Exercise: <br> <br>Create a Move_Tutor Class that will allow the Pokemon Class to inherit a move list.\n",
    "<br>\n",
    "<p>for an added bonus you can make sure that if a pokemon has 4 moves the user can choose one of them to replace with a new move. </p>"
   ]
  },
  {
   "cell_type": "code",
   "execution_count": 39,
   "metadata": {},
   "outputs": [],
   "source": [
    "import requests\n",
    "from time import sleep\n",
    "\n",
    "class Move_Tutor:\n",
    "    def __init__(self):\n",
    "        self.teachable_moves = []\n",
    "        self.taught_moves = []\n",
    "        \n",
    "    def move_moves_moves(self):\n",
    "        r = requests.get(f'https://pokeapi.co/api/v2/pokemon/{self.name.lower()}')\n",
    "        if r.status_code == 200:\n",
    "            pokemon = r.json()\n",
    "        else:\n",
    "            print(f'Please check the name of your Pokemon to make sure your spelling is correct. {r.status_code}')\n",
    "            return\n",
    "        \n",
    "        self.teachable_moves = [move['move']['name'] for move in pokemon[\"moves\"]]\n",
    "#         print(f'{self.name.lower()} can learn these moves: {self.teachable_moves}.')\n",
    "        \n",
    "    def new_cool_moves(self):\n",
    "        new_move = input(f\"What move would you like the trainer to teach {self.name.title()}? Please choose from {self.teachable_moves}.\")\n",
    "        if new_move in self.taught_moves:\n",
    "            print(f'Yay! {self.names.title()} is a mile ahead of the rest. They already know this move. Please choose another!')\n",
    "            pass\n",
    "        else:\n",
    "            if new_move in self.teachable_moves:\n",
    "                print(\"..........YAY........\")\n",
    "                sleep(1)\n",
    "                print(f'\\nYou should be so proud. {self.name.title()} is training morning, day, and night.')\n",
    "                print(\"\\n..........ANTCIPATION.........\")\n",
    "                sleep(1)\n",
    "                print(f'\\n{self.name.title()} has listened to Britney Spears when she said, you better work, and is working hard!')\n",
    "                print(\"\\n............almost.............\")\n",
    "                sleep(1)\n",
    "                self.taught_moves.append(new_move)\n",
    "                print(\"\\n..............................\")\n",
    "                sleep(1)\n",
    "                print(f'\\nGET IT {self.name.title()}!! They just learned {new_move}.')\n",
    "    \n",
    "    def display_moves(self):\n",
    "        print(f'\\n\\nThis is looking at you kid. Your {self.name} knows all these moves: {self.taught_moves}.')\n",
    "        \n",
    "        #create the option once the threshold of four has been hit to del the selection recently made \n",
    "        #or to replace one of the stored moves. \n",
    "        "
   ]
  },
  {
   "cell_type": "code",
   "execution_count": 40,
   "metadata": {},
   "outputs": [],
   "source": [
    "import requests\n",
    "from IPython.display import Image\n",
    "\n",
    "class Pokemon(Move_Tutor):\n",
    "    def __init__(self, name):\n",
    "#         super().__init__\n",
    "        Move_Tutor.__init__(self)\n",
    "        self.name = name\n",
    "        self.types = []\n",
    "        self.abilities = []\n",
    "        self.weight = None\n",
    "        self.image = None\n",
    "        self.poke_api_call()\n",
    "        \n",
    "    def poke_api_call(self):\n",
    "        r = requests.get(f\"https://pokeapi.co/api/v2/pokemon/{self.name.lower()}\")\n",
    "        if r.status_code == 200:\n",
    "            pokemon = r.json()\n",
    "        else:\n",
    "            print(f\"Please check pokemon name spelling and try again: {r.status_code}\")\n",
    "            return\n",
    "        \n",
    "        self.name = pokemon['name']\n",
    "        self.types = [pokemon['type']['name'] for pokemon in pokemon['types']]\n",
    "        self.abilities = [pokemon['ability']['name'] for pokemon in pokemon['abilities']]\n",
    "        self.weight = pokemon['weight']\n",
    "        self.image = pokemon['sprites']['front_shiny']\n",
    "        print(f\"{self.name}'s data has been updated!\")\n",
    "        \n",
    "    #disply our image with a method\n",
    "    def display(self):\n",
    "        display(Image(url = self.image))\n",
    "        \n",
    "    def __repr__(self):\n",
    "        return f\"You caught a {self.name}!!\""
   ]
  },
  {
   "cell_type": "code",
   "execution_count": 41,
   "metadata": {},
   "outputs": [
    {
     "name": "stdout",
     "output_type": "stream",
     "text": [
      "charmander's data has been updated!\n",
      "What move would you like the trainer to teach Charmander? Please choose from ['mega-punch', 'fire-punch', 'thunder-punch', 'scratch', 'swords-dance', 'cut', 'wing-attack', 'mega-kick', 'headbutt', 'body-slam', 'take-down', 'double-edge', 'leer', 'bite', 'growl', 'ember', 'flamethrower', 'submission', 'counter', 'seismic-toss', 'strength', 'dragon-rage', 'fire-spin', 'dig', 'toxic', 'rage', 'mimic', 'double-team', 'smokescreen', 'defense-curl', 'reflect', 'bide', 'fire-blast', 'swift', 'skull-bash', 'fury-swipes', 'rest', 'rock-slide', 'slash', 'substitute', 'snore', 'curse', 'protect', 'scary-face', 'belly-drum', 'mud-slap', 'outrage', 'endure', 'false-swipe', 'swagger', 'fury-cutter', 'attract', 'sleep-talk', 'return', 'frustration', 'dynamic-punch', 'dragon-breath', 'iron-tail', 'metal-claw', 'hidden-power', 'sunny-day', 'crunch', 'ancient-power', 'rock-smash', 'beat-up', 'heat-wave', 'will-o-wisp', 'facade', 'focus-punch', 'helping-hand', 'brick-break', 'secret-power', 'weather-ball', 'air-cutter', 'overheat', 'rock-tomb', 'aerial-ace', 'dragon-claw', 'dragon-dance', 'natural-gift', 'fling', 'flare-blitz', 'dragon-pulse', 'dragon-rush', 'shadow-claw', 'fire-fang', 'captivate', 'hone-claws', 'flame-burst', 'flame-charge', 'round', 'echoed-voice', 'incinerate', 'acrobatics', 'inferno', 'fire-pledge', 'dragon-tail', 'work-up', 'confide', 'power-up-punch'].inferno\n",
      "..........YAY........\n",
      "\n",
      "You should be so proud. Charmander is training morning, day, and night.\n",
      "\n",
      "..........ANTCIPATION.........\n",
      "\n",
      "Charmander has listened to Britney Spears when she said, you better work, and is working hard!\n",
      "\n",
      "............almost.............\n",
      "\n",
      "..............................\n",
      "\n",
      "GET IT Charmander!! They just learned inferno.\n",
      "\n",
      "\n",
      "This is looking at you kid. Your charmander knows all these moves: ['inferno'].\n"
     ]
    }
   ],
   "source": [
    "charmander = Pokemon(\"charmander\")\n",
    "charmander.move_moves_moves()\n",
    "charmander.new_cool_moves()\n",
    "charmander.display_moves()"
   ]
  },
  {
   "cell_type": "code",
   "execution_count": 16,
   "metadata": {},
   "outputs": [
    {
     "data": {
      "application/javascript": [
       "IPython.notebook.set_autosave_interval(30000)"
      ]
     },
     "metadata": {},
     "output_type": "display_data"
    },
    {
     "name": "stdout",
     "output_type": "stream",
     "text": [
      "Autosaving every 30 seconds\n"
     ]
    }
   ],
   "source": [
    "%autosave 30"
   ]
  }
 ],
 "metadata": {
  "kernelspec": {
   "display_name": "Python 3 (ipykernel)",
   "language": "python",
   "name": "python3"
  },
  "language_info": {
   "codemirror_mode": {
    "name": "ipython",
    "version": 3
   },
   "file_extension": ".py",
   "mimetype": "text/x-python",
   "name": "python",
   "nbconvert_exporter": "python",
   "pygments_lexer": "ipython3",
   "version": "3.9.12"
  }
 },
 "nbformat": 4,
 "nbformat_minor": 4
}
